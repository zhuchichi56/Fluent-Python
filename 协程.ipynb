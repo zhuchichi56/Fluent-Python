{
 "cells": [
  {
   "cell_type": "markdown",
   "source": [
    "# Python 协程\n",
    "Python 协程是一种轻量级的并发编程模型，它使得在单线程中实现并发变得简单。协程是通过生成器实现的，它可以在执行过程中让出控制权，让其他协程执行，然后再恢复执行。\n",
    "\n",
    "与多线程相比，协程的优势在于它只使用一个线程，因此避免了多线程中线程切换带来的开销。此外，协程也没有多线程中的竞争条件，因此也避免了死锁的风险。\n",
    "\n",
    "Python3.5 开始引入了 async 和 await 关键字，使得协程的使用更加方便。 async 定义一个异步函数， await 用于挂起函数的执行直到某个异步操作完成。"
   ],
   "metadata": {
    "collapsed": false
   }
  },
  {
   "cell_type": "markdown",
   "source": [
    "\n",
    "现在你知道gather和wait方法的真正区别了吗？\n",
    "\n",
    "1.gather具有把普通协程函数包装成协程任务的能力，wait没有。wait只能接收包装后的协程任务列表做参数。\n",
    "\n",
    "2.两者返回值不一样，wait返回的是已完成和未完成任务的列表，而gather直接返回协程任务执行结果。\n",
    "\n",
    "3.gather返回的任务执行结果是有序的，wait方法获取的结果是无序的。\n"
   ],
   "metadata": {
    "collapsed": false
   }
  },
  {
   "cell_type": "code",
   "execution_count": 8,
   "outputs": [
    {
     "ename": "RuntimeError",
     "evalue": "asyncio.run() cannot be called from a running event loop",
     "output_type": "error",
     "traceback": [
      "\u001B[0;31m---------------------------------------------------------------------------\u001B[0m",
      "\u001B[0;31mRuntimeError\u001B[0m                              Traceback (most recent call last)",
      "Cell \u001B[0;32mIn[8], line 18\u001B[0m\n\u001B[1;32m     15\u001B[0m     \u001B[38;5;28;01mawait\u001B[39;00m asyncio\u001B[38;5;241m.\u001B[39mgather(\u001B[38;5;241m*\u001B[39mtasks)\n\u001B[1;32m     17\u001B[0m \u001B[38;5;28;01mif\u001B[39;00m \u001B[38;5;18m__name__\u001B[39m \u001B[38;5;241m==\u001B[39m \u001B[38;5;124m'\u001B[39m\u001B[38;5;124m__main__\u001B[39m\u001B[38;5;124m'\u001B[39m:\n\u001B[0;32m---> 18\u001B[0m     \u001B[43masyncio\u001B[49m\u001B[38;5;241;43m.\u001B[39;49m\u001B[43mrun\u001B[49m\u001B[43m(\u001B[49m\u001B[43mmain\u001B[49m\u001B[43m(\u001B[49m\u001B[43m)\u001B[49m\u001B[43m)\u001B[49m\n\u001B[1;32m     21\u001B[0m \u001B[38;5;66;03m#--------------------------\u001B[39;00m\n\u001B[1;32m     25\u001B[0m \u001B[38;5;28;01mimport\u001B[39;00m \u001B[38;5;21;01masyncio\u001B[39;00m\n",
      "File \u001B[0;32m~/opt/anaconda3/envs/gr/lib/python3.10/asyncio/runners.py:33\u001B[0m, in \u001B[0;36mrun\u001B[0;34m(main, debug)\u001B[0m\n\u001B[1;32m      9\u001B[0m \u001B[38;5;250m\u001B[39m\u001B[38;5;124;03m\"\"\"Execute the coroutine and return the result.\u001B[39;00m\n\u001B[1;32m     10\u001B[0m \n\u001B[1;32m     11\u001B[0m \u001B[38;5;124;03mThis function runs the passed coroutine, taking care of\u001B[39;00m\n\u001B[0;32m   (...)\u001B[0m\n\u001B[1;32m     30\u001B[0m \u001B[38;5;124;03m    asyncio.run(main())\u001B[39;00m\n\u001B[1;32m     31\u001B[0m \u001B[38;5;124;03m\"\"\"\u001B[39;00m\n\u001B[1;32m     32\u001B[0m \u001B[38;5;28;01mif\u001B[39;00m events\u001B[38;5;241m.\u001B[39m_get_running_loop() \u001B[38;5;129;01mis\u001B[39;00m \u001B[38;5;129;01mnot\u001B[39;00m \u001B[38;5;28;01mNone\u001B[39;00m:\n\u001B[0;32m---> 33\u001B[0m     \u001B[38;5;28;01mraise\u001B[39;00m \u001B[38;5;167;01mRuntimeError\u001B[39;00m(\n\u001B[1;32m     34\u001B[0m         \u001B[38;5;124m\"\u001B[39m\u001B[38;5;124masyncio.run() cannot be called from a running event loop\u001B[39m\u001B[38;5;124m\"\u001B[39m)\n\u001B[1;32m     36\u001B[0m \u001B[38;5;28;01mif\u001B[39;00m \u001B[38;5;129;01mnot\u001B[39;00m coroutines\u001B[38;5;241m.\u001B[39miscoroutine(main):\n\u001B[1;32m     37\u001B[0m     \u001B[38;5;28;01mraise\u001B[39;00m \u001B[38;5;167;01mValueError\u001B[39;00m(\u001B[38;5;124m\"\u001B[39m\u001B[38;5;124ma coroutine was expected, got \u001B[39m\u001B[38;5;132;01m{!r}\u001B[39;00m\u001B[38;5;124m\"\u001B[39m\u001B[38;5;241m.\u001B[39mformat(main))\n",
      "\u001B[0;31mRuntimeError\u001B[0m: asyncio.run() cannot be called from a running event loop"
     ]
    }
   ],
   "source": [
    "import asyncio\n",
    "\n",
    "async def func1(i):\n",
    "    print(f\"协程函数{i}马上开始执行。\")\n",
    "    await asyncio.sleep(2)\n",
    "    print(f\"协程函数{i}执行完毕!\")\n",
    "\n",
    "async def main():\n",
    "    tasks = []\n",
    "    for i in range(1, 5):\n",
    "        # 这里未由协程函数创建协程任务\n",
    "        tasks.append(func1(i))\n",
    "\n",
    "    # 注意这里*号。gather自动将函数列表封装成了协程任务。\n",
    "    await asyncio.gather(*tasks)\n",
    "\n",
    "if __name__ == '__main__':\n",
    "    asyncio.run(main())\n",
    "\n",
    "\n",
    "#--------------------------\n",
    "\n",
    "\n",
    "\n",
    "import asyncio\n",
    "\n",
    "async def func1(i):\n",
    "    print(f\"协程函数{i}马上开始执行。\")\n",
    "    await asyncio.sleep(2)\n",
    "    print(f\"协程函数{i}执行完毕!\")\n",
    "\n",
    "\n",
    "async def main():\n",
    "    tasks = []\n",
    "    # 创建包含4个协程任务的列表\n",
    "    for i in range(1, 5):\n",
    "        tasks.append(asyncio.create_task(func1(i)))\n",
    "\n",
    "    await asyncio.wait(tasks)\n",
    "\n",
    "if __name__ == '__main__':\n",
    "    asyncio.run(main())"
   ],
   "metadata": {
    "collapsed": false
   }
  },
  {
   "cell_type": "markdown",
   "source": [
    "我们还可以给每个协程任务通过add_done_callback的方法给单个协程任务添加回调函数，如下所示"
   ],
   "metadata": {
    "collapsed": false
   }
  },
  {
   "cell_type": "code",
   "execution_count": 7,
   "outputs": [
    {
     "ename": "RuntimeError",
     "evalue": "asyncio.run() cannot be called from a running event loop",
     "output_type": "error",
     "traceback": [
      "\u001B[0;31m---------------------------------------------------------------------------\u001B[0m",
      "\u001B[0;31mRuntimeError\u001B[0m                              Traceback (most recent call last)",
      "Cell \u001B[0;32mIn[7], line 25\u001B[0m\n\u001B[1;32m     22\u001B[0m    \u001B[38;5;28;01mawait\u001B[39;00m asyncio\u001B[38;5;241m.\u001B[39mwait(tasks)\n\u001B[1;32m     24\u001B[0m \u001B[38;5;28;01mif\u001B[39;00m \u001B[38;5;18m__name__\u001B[39m \u001B[38;5;241m==\u001B[39m \u001B[38;5;124m'\u001B[39m\u001B[38;5;124m__main__\u001B[39m\u001B[38;5;124m'\u001B[39m:\n\u001B[0;32m---> 25\u001B[0m    \u001B[43masyncio\u001B[49m\u001B[38;5;241;43m.\u001B[39;49m\u001B[43mrun\u001B[49m\u001B[43m(\u001B[49m\u001B[43mmain\u001B[49m\u001B[43m(\u001B[49m\u001B[43m)\u001B[49m\u001B[43m)\u001B[49m\n",
      "File \u001B[0;32m~/opt/anaconda3/envs/gr/lib/python3.10/asyncio/runners.py:33\u001B[0m, in \u001B[0;36mrun\u001B[0;34m(main, debug)\u001B[0m\n\u001B[1;32m      9\u001B[0m \u001B[38;5;250m\u001B[39m\u001B[38;5;124;03m\"\"\"Execute the coroutine and return the result.\u001B[39;00m\n\u001B[1;32m     10\u001B[0m \n\u001B[1;32m     11\u001B[0m \u001B[38;5;124;03mThis function runs the passed coroutine, taking care of\u001B[39;00m\n\u001B[0;32m   (...)\u001B[0m\n\u001B[1;32m     30\u001B[0m \u001B[38;5;124;03m    asyncio.run(main())\u001B[39;00m\n\u001B[1;32m     31\u001B[0m \u001B[38;5;124;03m\"\"\"\u001B[39;00m\n\u001B[1;32m     32\u001B[0m \u001B[38;5;28;01mif\u001B[39;00m events\u001B[38;5;241m.\u001B[39m_get_running_loop() \u001B[38;5;129;01mis\u001B[39;00m \u001B[38;5;129;01mnot\u001B[39;00m \u001B[38;5;28;01mNone\u001B[39;00m:\n\u001B[0;32m---> 33\u001B[0m     \u001B[38;5;28;01mraise\u001B[39;00m \u001B[38;5;167;01mRuntimeError\u001B[39;00m(\n\u001B[1;32m     34\u001B[0m         \u001B[38;5;124m\"\u001B[39m\u001B[38;5;124masyncio.run() cannot be called from a running event loop\u001B[39m\u001B[38;5;124m\"\u001B[39m)\n\u001B[1;32m     36\u001B[0m \u001B[38;5;28;01mif\u001B[39;00m \u001B[38;5;129;01mnot\u001B[39;00m coroutines\u001B[38;5;241m.\u001B[39miscoroutine(main):\n\u001B[1;32m     37\u001B[0m     \u001B[38;5;28;01mraise\u001B[39;00m \u001B[38;5;167;01mValueError\u001B[39;00m(\u001B[38;5;124m\"\u001B[39m\u001B[38;5;124ma coroutine was expected, got \u001B[39m\u001B[38;5;132;01m{!r}\u001B[39;00m\u001B[38;5;124m\"\u001B[39m\u001B[38;5;241m.\u001B[39mformat(main))\n",
      "\u001B[0;31mRuntimeError\u001B[0m: asyncio.run() cannot be called from a running event loop"
     ]
    }
   ],
   "source": [
    " #-*- coding:utf-8 -*-\n",
    "import asyncio\n",
    "\n",
    "async def func1(i):\n",
    "    print(f\"协程函数{i}马上开始执行。\")\n",
    "    await asyncio.sleep(2)\n",
    "    return i\n",
    "\n",
    "# 回调函数\n",
    "def callback(future):\n",
    "    print(f\"执行结果:{future.result()}\")\n",
    "\n",
    "async def main():\n",
    "    tasks = []\n",
    "    for i in range(1, 5):\n",
    "        task = asyncio.create_task(func1(i))\n",
    "\n",
    "        # 注意这里，增加回调函数\n",
    "        task.add_done_callback(callback)\n",
    "        tasks.append(task)\n",
    "\n",
    "    await asyncio.wait(tasks)\n",
    "\n",
    "if __name__ == '__main__':\n",
    "    asyncio.run(main())"
   ],
   "metadata": {
    "collapsed": false
   }
  },
  {
   "cell_type": "markdown",
   "source": [
    "# 设置任务超时\n",
    "很多协程任务都是很耗时的，当你使用wait方法收集协程任务时，可通过timeout选项设置任务切换前单个任务最大等待时间长度，如下所示：\n",
    "\n",
    "获取任务执行结果，如下所示：\n",
    "done, pending = await asyncio.wait(tasks, timeout=10)\n",
    "\n",
    "自省\n",
    "asyncio.current_task: 返回当前运行的Task实例，如果没有正在运行的任务则返回 None。如果 loop 为 None 则会使用 get_running_loop()获取当前事件循环。\n",
    "\n",
    "asyncio.all_tasks: 返回事件循环所运行的未完成的Task对象的集合。\n",
    "\n",
    "原文链接：https://blog.csdn.net/weixin_42134789/article/details/116956109"
   ],
   "metadata": {
    "collapsed": false
   }
  },
  {
   "cell_type": "code",
   "execution_count": null,
   "outputs": [],
   "source": [],
   "metadata": {
    "collapsed": false
   }
  }
 ],
 "metadata": {
  "kernelspec": {
   "display_name": "Python 3",
   "language": "python",
   "name": "python3"
  },
  "language_info": {
   "codemirror_mode": {
    "name": "ipython",
    "version": 2
   },
   "file_extension": ".py",
   "mimetype": "text/x-python",
   "name": "python",
   "nbconvert_exporter": "python",
   "pygments_lexer": "ipython2",
   "version": "2.7.6"
  }
 },
 "nbformat": 4,
 "nbformat_minor": 0
}
